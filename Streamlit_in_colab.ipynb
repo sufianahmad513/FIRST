{
  "nbformat": 4,
  "nbformat_minor": 0,
  "metadata": {
    "colab": {
      "provenance": [],
      "include_colab_link": true
    },
    "kernelspec": {
      "name": "python3",
      "display_name": "Python 3"
    },
    "language_info": {
      "name": "python"
    }
  },
  "cells": [
    {
      "cell_type": "markdown",
      "metadata": {
        "id": "view-in-github",
        "colab_type": "text"
      },
      "source": [
        "<a href=\"https://colab.research.google.com/github/sufianahmad513/FIRST/blob/main/Streamlit_in_colab.ipynb\" target=\"_parent\"><img src=\"https://colab.research.google.com/assets/colab-badge.svg\" alt=\"Open In Colab\"/></a>"
      ]
    },
    {
      "cell_type": "code",
      "execution_count": 1,
      "metadata": {
        "id": "0K42QzYSzkXJ",
        "colab": {
          "base_uri": "https://localhost:8080/"
        },
        "outputId": "61cddf31-812a-47b3-91a5-c5a3c73d4cb7"
      },
      "outputs": [
        {
          "output_type": "stream",
          "name": "stdout",
          "text": [
            "\u001b[2K     \u001b[90m━━━━━━━━━━━━━━━━━━━━━━━━━━━━━━━━━━━━━━━━\u001b[0m \u001b[32m91.2/91.2 kB\u001b[0m \u001b[31m2.6 MB/s\u001b[0m eta \u001b[36m0:00:00\u001b[0m\n",
            "\u001b[2K   \u001b[90m━━━━━━━━━━━━━━━━━━━━━━━━━━━━━━━━━━━━━━━━\u001b[0m \u001b[32m10.1/10.1 MB\u001b[0m \u001b[31m32.5 MB/s\u001b[0m eta \u001b[36m0:00:00\u001b[0m\n",
            "\u001b[2K   \u001b[90m━━━━━━━━━━━━━━━━━━━━━━━━━━━━━━━━━━━━━━━━\u001b[0m \u001b[32m12.0/12.0 MB\u001b[0m \u001b[31m36.1 MB/s\u001b[0m eta \u001b[36m0:00:00\u001b[0m\n",
            "\u001b[2K   \u001b[90m━━━━━━━━━━━━━━━━━━━━━━━━━━━━━━━━━━━━━━━━\u001b[0m \u001b[32m8.7/8.7 MB\u001b[0m \u001b[31m29.4 MB/s\u001b[0m eta \u001b[36m0:00:00\u001b[0m\n",
            "\u001b[2K   \u001b[90m━━━━━━━━━━━━━━━━━━━━━━━━━━━━━━━━━━━━━━━━\u001b[0m \u001b[32m6.9/6.9 MB\u001b[0m \u001b[31m29.5 MB/s\u001b[0m eta \u001b[36m0:00:00\u001b[0m\n",
            "\u001b[?25h\u001b[31mERROR: pip's dependency resolver does not currently take into account all the packages that are installed. This behaviour is the source of the following dependency conflicts.\n",
            "google-colab 1.0.0 requires pandas==2.2.2, but you have pandas 2.3.2 which is incompatible.\n",
            "cudf-cu12 25.6.0 requires pandas<2.2.4dev0,>=2.0, but you have pandas 2.3.2 which is incompatible.\n",
            "dask-cudf-cu12 25.6.0 requires pandas<2.2.4dev0,>=2.0, but you have pandas 2.3.2 which is incompatible.\u001b[0m\u001b[31m\n",
            "\u001b[0m"
          ]
        }
      ],
      "source": [
        "!pip -q install -U streamlit pandas altair matplotlib seaborn\n",
        "from google.colab import output\n",
        "import os, time, requests, subprocess, sys, textwrap, pathlib\n"
      ]
    },
    {
      "cell_type": "code",
      "source": [
        "# in Colab we can create new files and write in them with using %%writefile command\n",
        "\n",
        "%%writefile app.py\n",
        "import streamlit as st, pandas as pd\n",
        "st.set_page_config(layout=\"wide\")\n",
        "st.title(\"Hello from AAUBS 2025/26 SDS class 👋\")\n",
        "st.write(\"This is running inside Google Colab (iframe). As you can see, it is a bit lame...\")\n",
        "\n",
        "st.write(\"There are also other ways of starting it but its functionality depends on your computer's settings...\")\n",
        "st.bar_chart(pd.DataFrame({\"x\":[1,2,3,4], \"y\":[3,1,4,2]}).set_index(\"x\"))\n"
      ],
      "metadata": {
        "colab": {
          "base_uri": "https://localhost:8080/"
        },
        "id": "ovlGr_Ppzr4Q",
        "outputId": "9563de14-464b-4a82-b2e5-f5eb2b34eb74"
      },
      "execution_count": 2,
      "outputs": [
        {
          "output_type": "stream",
          "name": "stdout",
          "text": [
            "Writing app.py\n"
          ]
        }
      ]
    },
    {
      "cell_type": "code",
      "source": [
        "PORT = 8502  # change to a new number if needed\n",
        "os.makedirs(\".streamlit\", exist_ok=True)\n",
        "open(\".streamlit/config.toml\",\"w\").write(textwrap.dedent(f\"\"\"\n",
        "[server]\n",
        "headless = true\n",
        "port = {PORT}\n",
        "address = \"0.0.0.0\"\n",
        "enableCORS = false\n",
        "enableXsrfProtection = false\n",
        "\n",
        "[browser]\n",
        "gatherUsageStats = false\n",
        "\"\"\"))\n",
        "print(\"Wrote .streamlit/config.toml\")\n",
        "\n"
      ],
      "metadata": {
        "colab": {
          "base_uri": "https://localhost:8080/"
        },
        "id": "8mETmbs45jWC",
        "outputId": "ef6b2726-0f1a-4f58-f8bd-260c0bd8c107"
      },
      "execution_count": 3,
      "outputs": [
        {
          "output_type": "stream",
          "name": "stdout",
          "text": [
            "Wrote .streamlit/config.toml\n"
          ]
        }
      ]
    },
    {
      "cell_type": "code",
      "source": [
        "# Stop any previous Streamlit process\n",
        "!pkill -f \"streamlit run\" || true\n",
        "\n",
        "# Start Streamlit in the background and log to file\n",
        "proc = subprocess.Popen(\n",
        "    [\"streamlit\", \"run\", \"app.py\"],\n",
        "    stdout=open(\"streamlit.log\", \"w\"),\n",
        "    stderr=subprocess.STDOUT,\n",
        "    text=True\n",
        ")\n",
        "\n",
        "# Wait until Streamlit is healthy (prevents blank/500 iframe)\n",
        "health_url = f\"http://127.0.0.1:{PORT}/healthz\"\n",
        "for i in range(60):  # ~30s max\n",
        "    try:\n",
        "        r = requests.get(health_url, timeout=0.5)\n",
        "        if r.status_code == 200:\n",
        "            print(f\"✅ Streamlit is up on port {PORT}\")\n",
        "            break\n",
        "    except Exception:\n",
        "        pass\n",
        "    time.sleep(0.5)\n",
        "else:\n",
        "    print(\"⚠️ Streamlit did not become healthy in time. Log tail:\")\n",
        "    try:\n",
        "        print(\"\\n\".join(open(\"streamlit.log\").read().splitlines()[-80:]))\n",
        "    except Exception as e:\n",
        "        print(f\"(couldn't read log): {e}\")\n"
      ],
      "metadata": {
        "colab": {
          "base_uri": "https://localhost:8080/"
        },
        "id": "_nGo1Zu65mEK",
        "outputId": "eb88b80e-ecad-4ca3-935d-90d65838650b"
      },
      "execution_count": 4,
      "outputs": [
        {
          "output_type": "stream",
          "name": "stdout",
          "text": [
            "^C\n",
            "✅ Streamlit is up on port 8502\n"
          ]
        }
      ]
    },
    {
      "cell_type": "code",
      "source": [
        "# If it ever shows blank again, re-run just this cell.\n",
        "output.serve_kernel_port_as_iframe(PORT, height=800)\n",
        "\n"
      ],
      "metadata": {
        "colab": {
          "base_uri": "https://localhost:8080/",
          "height": 821
        },
        "id": "YyqA0kC64Fi9",
        "outputId": "20398327-8b8c-4986-8a06-1bde92bf8414"
      },
      "execution_count": 5,
      "outputs": [
        {
          "output_type": "display_data",
          "data": {
            "text/plain": [
              "<IPython.core.display.Javascript object>"
            ],
            "application/javascript": [
              "(async (port, path, width, height, cache, element) => {\n",
              "    if (!google.colab.kernel.accessAllowed && !cache) {\n",
              "      return;\n",
              "    }\n",
              "    element.appendChild(document.createTextNode(''));\n",
              "    const url = await google.colab.kernel.proxyPort(port, {cache});\n",
              "    const iframe = document.createElement('iframe');\n",
              "    iframe.src = new URL(path, url).toString();\n",
              "    iframe.height = height;\n",
              "    iframe.width = width;\n",
              "    iframe.style.border = 0;\n",
              "    iframe.allow = [\n",
              "        'accelerometer',\n",
              "        'autoplay',\n",
              "        'camera',\n",
              "        'clipboard-read',\n",
              "        'clipboard-write',\n",
              "        'gyroscope',\n",
              "        'magnetometer',\n",
              "        'microphone',\n",
              "        'serial',\n",
              "        'usb',\n",
              "        'xr-spatial-tracking',\n",
              "    ].join('; ');\n",
              "    element.appendChild(iframe);\n",
              "  })(8502, \"/\", \"100%\", 800, false, window.element)"
            ]
          },
          "metadata": {}
        }
      ]
    }
  ]
}